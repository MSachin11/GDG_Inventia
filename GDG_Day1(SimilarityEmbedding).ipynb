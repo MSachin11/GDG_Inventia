{
  "cells": [
    {
      "cell_type": "code",
      "execution_count": 3,
      "metadata": {
        "colab": {
          "base_uri": "https://localhost:8080/"
        },
        "id": "8lCBLXYavDeI",
        "outputId": "ababf3f3-8b63-4b5c-aa32-5b4314b945cf"
      },
      "outputs": [
        {
          "output_type": "stream",
          "name": "stdout",
          "text": [
            "Requirement already satisfied: gensim in /usr/local/lib/python3.10/dist-packages (4.3.3)\n",
            "Requirement already satisfied: numpy<2.0,>=1.18.5 in /usr/local/lib/python3.10/dist-packages (from gensim) (1.26.4)\n",
            "Requirement already satisfied: scipy<1.14.0,>=1.7.0 in /usr/local/lib/python3.10/dist-packages (from gensim) (1.13.1)\n",
            "Requirement already satisfied: smart-open>=1.8.1 in /usr/local/lib/python3.10/dist-packages (from gensim) (7.0.4)\n",
            "Requirement already satisfied: wrapt in /usr/local/lib/python3.10/dist-packages (from smart-open>=1.8.1->gensim) (1.16.0)\n"
          ]
        }
      ],
      "source": [
        "!pip install gensim\n",
        "from gensim.models import Word2Vec\n"
      ]
    },
    {
      "cell_type": "code",
      "source": [
        "sentence=(\"It's not only writers who can benefit from this free online tool. If you're a programmer who's working on a project where blocks of text are needed, this tool can be a great way to get that. It's a good way to test your programming and that the tool being created is working well.\")"
      ],
      "metadata": {
        "id": "AMQSW22i9vWy"
      },
      "execution_count": 4,
      "outputs": []
    },
    {
      "cell_type": "code",
      "source": [
        "tokenized_sentence = [sent.split() for sent in sentence.lower().split('. ')]"
      ],
      "metadata": {
        "id": "BW_x0J-d-SjA"
      },
      "execution_count": 5,
      "outputs": []
    },
    {
      "cell_type": "code",
      "source": [
        "model = Word2Vec(tokenized_sentence,min_count= 1)\n",
        "model.wv.similar_by_word('to')"
      ],
      "metadata": {
        "colab": {
          "base_uri": "https://localhost:8080/"
        },
        "id": "fg7L22F4-V5I",
        "outputId": "7451430a-62bd-4e42-be9f-1c064533d93c"
      },
      "execution_count": 6,
      "outputs": [
        {
          "output_type": "execute_result",
          "data": {
            "text/plain": [
              "[('on', 0.16689501702785492),\n",
              " ('your', 0.1627958118915558),\n",
              " ('way', 0.1384803056716919),\n",
              " ('this', 0.1319122314453125),\n",
              " ('where', 0.11712658405303955),\n",
              " (\"who's\", 0.0974239856004715),\n",
              " ('the', 0.09654597193002701),\n",
              " (\"you're\", 0.07189322263002396),\n",
              " (\"it's\", 0.06447205692529678),\n",
              " ('can', 0.060426969081163406)]"
            ]
          },
          "metadata": {},
          "execution_count": 6
        }
      ]
    }
  ],
  "metadata": {
    "colab": {
      "provenance": []
    },
    "kernelspec": {
      "display_name": "Python 3",
      "name": "python3"
    },
    "language_info": {
      "name": "python"
    }
  },
  "nbformat": 4,
  "nbformat_minor": 0
}