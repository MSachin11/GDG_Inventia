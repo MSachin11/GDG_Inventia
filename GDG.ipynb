{
  "cells": [
    {
      "cell_type": "code",
      "execution_count": 2,
      "metadata": {
        "colab": {
          "base_uri": "https://localhost:8080/"
        },
        "id": "OkNt4LUYF5PM",
        "outputId": "f2e756de-4a9e-42b6-d36d-06a506d4787e"
      },
      "outputs": [
        {
          "output_type": "stream",
          "name": "stderr",
          "text": [
            "[nltk_data] Downloading package punkt to /root/nltk_data...\n",
            "[nltk_data]   Unzipping tokenizers/punkt.zip.\n"
          ]
        },
        {
          "output_type": "stream",
          "name": "stdout",
          "text": [
            "[\"It's not only writers who can benefit from this free online tool.\", \"If you're a programmer who's working on a project where blocks of text are needed, this tool can be a great way to get that.\", \"It's a good way to test your programming and that the tool being created is working well.\"]\n"
          ]
        }
      ],
      "source": [
        "import nltk\n",
        "nltk.download('punkt')\n",
        "text=\"It's not only writers who can benefit from this free online tool. If you're a programmer who's working on a project where blocks of text are needed, this tool can be a great way to get that. It's a good way to test your programming and that the tool being created is working well.\"\n",
        "sentence=nltk.sent_tokenize(text)\n",
        "print(sentence)"
      ]
    },
    {
      "cell_type": "code",
      "execution_count": 3,
      "metadata": {
        "colab": {
          "base_uri": "https://localhost:8080/"
        },
        "id": "xC7APIk3Gab0",
        "outputId": "aa9e00c9-4e60-4b60-fac5-3b3bb7e52917"
      },
      "outputs": [
        {
          "output_type": "stream",
          "name": "stdout",
          "text": [
            "['It', \"'s\", 'not', 'only', 'writers', 'who', 'can', 'benefit', 'from', 'this', 'free', 'online', 'tool', '.', 'If', 'you', \"'re\", 'a', 'programmer', 'who', \"'s\", 'working', 'on', 'a', 'project', 'where', 'blocks', 'of', 'text', 'are', 'needed', ',', 'this', 'tool', 'can', 'be', 'a', 'great', 'way', 'to', 'get', 'that', '.', 'It', \"'s\", 'a', 'good', 'way', 'to', 'test', 'your', 'programming', 'and', 'that', 'the', 'tool', 'being', 'created', 'is', 'working', 'well', '.']\n"
          ]
        }
      ],
      "source": [
        "word=nltk.word_tokenize(text)\n",
        "print(word)"
      ]
    },
    {
      "cell_type": "code",
      "execution_count": 6,
      "metadata": {
        "colab": {
          "base_uri": "https://localhost:8080/"
        },
        "id": "28eIDHOuG0iC",
        "outputId": "0cb963e0-add4-49c2-d96b-e436aff33602"
      },
      "outputs": [
        {
          "output_type": "stream",
          "name": "stderr",
          "text": [
            "[nltk_data] Downloading package stopwords to /root/nltk_data...\n",
            "[nltk_data]   Package stopwords is already up-to-date!\n",
            "[nltk_data] Downloading package punkt to /root/nltk_data...\n",
            "[nltk_data]   Package punkt is already up-to-date!\n"
          ]
        }
      ],
      "source": [
        "import nltk\n",
        "from nltk.stem import PorterStemmer\n",
        "nltk.download('stopwords')\n",
        "nltk.download('punkt')\n",
        "#define stemmer\n",
        "stemmer=PorterStemmer()\n",
        "from nltk.corpus import stopwords"
      ]
    },
    {
      "cell_type": "code",
      "execution_count": 7,
      "metadata": {
        "colab": {
          "base_uri": "https://localhost:8080/"
        },
        "id": "uCECzSSeG2Mu",
        "outputId": "735df289-662a-4e2e-d1fd-94b7722b3fe5"
      },
      "outputs": [
        {
          "output_type": "stream",
          "name": "stdout",
          "text": [
            "[\"it 's writer benefit free onlin tool .\", \"if 're programm 's work project block text need , tool great way get .\", \"it 's good way test program tool creat work well .\"]\n"
          ]
        }
      ],
      "source": [
        "for i in range(len(sentence)):\n",
        "    words = nltk.word_tokenize(sentence[i])\n",
        "    words = [stemmer.stem(word) for word in words if word not in set(stopwords.words(\"english\"))]\n",
        "    sentence[i] = ' '.join(words)\n",
        "print(sentence)"
      ]
    },
    {
      "cell_type": "code",
      "execution_count": 8,
      "metadata": {
        "colab": {
          "base_uri": "https://localhost:8080/"
        },
        "id": "35x3edYgHmT4",
        "outputId": "0d1607a5-95a2-4887-cb54-fb6f9e03914e"
      },
      "outputs": [
        {
          "output_type": "stream",
          "name": "stderr",
          "text": [
            "[nltk_data] Downloading package wordnet to /root/nltk_data...\n"
          ]
        },
        {
          "output_type": "execute_result",
          "data": {
            "text/plain": [
              "True"
            ]
          },
          "metadata": {},
          "execution_count": 8
        }
      ],
      "source": [
        "nltk.download('wordnet')\n"
      ]
    },
    {
      "cell_type": "code",
      "source": [
        "from nltk.stem import WordNetLemmatizer\n",
        "from nltk.corpus import stopwords\n",
        "lemma = WordNetLemmatizer()"
      ],
      "metadata": {
        "id": "fTnexKMx8Cay"
      },
      "execution_count": 9,
      "outputs": []
    },
    {
      "cell_type": "code",
      "source": [
        "sentences_lem = nltk.sent_tokenize(text)\n",
        "# Lemmatization\n",
        "for i in range(len(sentences_lem)):\n",
        "    words = nltk.word_tokenize(sentences_lem[i])\n",
        "    words = [lemma.lemmatize(word) for word in words if word not in set(stopwords.words('english'))]\n",
        "    sentences_lem[i] = ' '.join(words)"
      ],
      "metadata": {
        "id": "raUsmb-w8DmF"
      },
      "execution_count": 11,
      "outputs": []
    },
    {
      "cell_type": "code",
      "source": [
        "sentences_lem"
      ],
      "metadata": {
        "colab": {
          "base_uri": "https://localhost:8080/"
        },
        "id": "K1AMZHkc8tlD",
        "outputId": "8ebbdfba-097e-499a-bdce-708a87fe5273"
      },
      "execution_count": 13,
      "outputs": [
        {
          "output_type": "execute_result",
          "data": {
            "text/plain": [
              "[\"It 's writer benefit free online tool .\",\n",
              " \"If 're programmer 's working project block text needed , tool great way get .\",\n",
              " \"It 's good way test programming tool created working well .\"]"
            ]
          },
          "metadata": {},
          "execution_count": 13
        }
      ]
    }
  ],
  "metadata": {
    "colab": {
      "provenance": []
    },
    "kernelspec": {
      "display_name": "Python 3",
      "name": "python3"
    },
    "language_info": {
      "name": "python"
    }
  },
  "nbformat": 4,
  "nbformat_minor": 0
}